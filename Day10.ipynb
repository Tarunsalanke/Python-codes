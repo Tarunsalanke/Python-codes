{
 "cells": [
  {
   "cell_type": "code",
   "execution_count": 9,
   "id": "c3ca9dae-3340-4b43-8457-e958361d974e",
   "metadata": {},
   "outputs": [
    {
     "name": "stdout",
     "output_type": "stream",
     "text": [
      "6\n",
      "12\n",
      "18\n",
      "24\n",
      "30\n",
      "36\n",
      "42\n",
      "48\n",
      "54\n",
      "60\n"
     ]
    }
   ],
   "source": [
    "def table(x,n):\n",
    "    if x==11:\n",
    "        return\n",
    "    else:\n",
    "        print(x*n)\n",
    "        table((x+1),n)\n",
    "\n",
    "\n",
    "table(1,6)"
   ]
  },
  {
   "cell_type": "code",
   "execution_count": 16,
   "id": "fe471b4c-a0aa-4fda-aee2-e0d63e5d612a",
   "metadata": {},
   "outputs": [
    {
     "name": "stdin",
     "output_type": "stream",
     "text": [
      "Enter num:  5\n"
     ]
    },
    {
     "name": "stdout",
     "output_type": "stream",
     "text": [
      "5\n",
      "4\n",
      "3\n",
      "2\n",
      "120\n"
     ]
    }
   ],
   "source": [
    "a=int(input('Enter num: '))\n",
    "fac=1\n",
    "for i in range(a,1,-1):\n",
    "    fac*=i\n",
    "\n",
    "print(fac)"
   ]
  },
  {
   "cell_type": "code",
   "execution_count": 13,
   "id": "4c65621e-00ea-4194-9aaf-8a843c73c10c",
   "metadata": {},
   "outputs": [
    {
     "name": "stdout",
     "output_type": "stream",
     "text": [
      "24\n"
     ]
    }
   ],
   "source": [
    "def fac(n):\n",
    "    if n==0 or n==1:\n",
    "        return 1\n",
    "    else:\n",
    "        return n*fac(n-1)\n",
    "\n",
    "print(fac(int(input(''))))"
   ]
  },
  {
   "cell_type": "code",
   "execution_count": 22,
   "id": "b2f0e006-06dc-40e8-a95e-a007c6d7e51c",
   "metadata": {},
   "outputs": [
    {
     "name": "stdin",
     "output_type": "stream",
     "text": [
      "Enter :  20\n"
     ]
    },
    {
     "name": "stdout",
     "output_type": "stream",
     "text": [
      "0\n",
      "1\n",
      "1\n",
      "2\n",
      "3\n",
      "5\n",
      "8\n",
      "13\n",
      "21\n",
      "34\n",
      "55\n",
      "89\n",
      "144\n",
      "233\n",
      "377\n",
      "610\n",
      "987\n",
      "1597\n",
      "2584\n",
      "4181\n",
      "6765\n"
     ]
    }
   ],
   "source": [
    "def fib(n):\n",
    "    if n==0 or n==1:\n",
    "        return n\n",
    "    else:\n",
    "        return fib(n-1)+fib(n-2)\n",
    "\n",
    "\n",
    "for i in range(0,int(input(\"Enter : \"))+1):\n",
    "    print(fib(i))"
   ]
  },
  {
   "cell_type": "code",
   "execution_count": 24,
   "id": "4155dab4-53b6-47a2-bcf8-7bc49a71b895",
   "metadata": {},
   "outputs": [
    {
     "name": "stdout",
     "output_type": "stream",
     "text": [
      "[1, 2, 3, 4, 5, 6, 7, 8, 9]\n"
     ]
    }
   ],
   "source": [
    "#QuickSort\n",
    "def findpi(ar,low,high):\n",
    "    pe=ar[high]\n",
    "    j=low-1\n",
    "    for i in range(low,high):\n",
    "        if pe>ar[i]:\n",
    "            j+=1\n",
    "            ar[i],ar[j]=ar[j],ar[i]\n",
    "    ar[high],ar[j+1]=ar[j+1],ar[high]\n",
    "    return j+1\n",
    "\n",
    "def quicksort(ar,low,high):\n",
    "    if low < high:\n",
    "        pi=findpi(ar,low,high)\n",
    "        quicksort(ar,low,pi-1)\n",
    "        quicksort(ar,pi+1,high)\n",
    "\n",
    "ar=[3,5,7,2,4,8,1,9,6]\n",
    "quicksort(ar,0,len(ar)-1)\n",
    "print(ar)"
   ]
  },
  {
   "cell_type": "code",
   "execution_count": 20,
   "id": "4e44aa9e-970d-4b40-8147-b214b7b7050b",
   "metadata": {},
   "outputs": [
    {
     "name": "stdout",
     "output_type": "stream",
     "text": [
      "Apple\n",
      "Ball\n",
      "Ball\n",
      "Cat\n",
      "<class '__main__.node'>\n"
     ]
    }
   ],
   "source": [
    "class node:\n",
    "    def __init__(self,value):\n",
    "        self.data=value\n",
    "        self.next=None\n",
    "\n",
    "A=node('Apple')\n",
    "B=node('Ball')\n",
    "C=node('Cat')\n",
    "A.next=B\n",
    "B.next=C\n",
    "print(A.data)       #A.data\n",
    "print(A.next.data)  #B.data\n",
    "print(B.data)       #B.data\n",
    "print(C.data)       #C.data\n",
    "print(type(A.next))"
   ]
  },
  {
   "cell_type": "code",
   "execution_count": 16,
   "id": "6df02cd9-5509-4b04-97ae-6c480ef55569",
   "metadata": {},
   "outputs": [
    {
     "name": "stdout",
     "output_type": "stream",
     "text": [
      "Cat\n"
     ]
    }
   ],
   "source": [
    "class node:\n",
    "    def __init__(self,value):\n",
    "        self.data=value\n",
    "        self.next=None\n",
    "\n",
    "head=node('Apple')\n",
    "head.next=node('Ball')\n",
    "head.next.next=node('Cat')\n",
    "print(head.data)           #Apple\n",
    "print(head.next.data)      #Ball\n",
    "print(head.next.next.data) #cat"
   ]
  },
  {
   "cell_type": "code",
   "execution_count": null,
   "id": "fc86c44e-e3c9-41f2-8996-37cd150ef244",
   "metadata": {},
   "outputs": [],
   "source": []
  }
 ],
 "metadata": {
  "kernelspec": {
   "display_name": "Python 3 (ipykernel)",
   "language": "python",
   "name": "python3"
  },
  "language_info": {
   "codemirror_mode": {
    "name": "ipython",
    "version": 3
   },
   "file_extension": ".py",
   "mimetype": "text/x-python",
   "name": "python",
   "nbconvert_exporter": "python",
   "pygments_lexer": "ipython3",
   "version": "3.12.3"
  }
 },
 "nbformat": 4,
 "nbformat_minor": 5
}
