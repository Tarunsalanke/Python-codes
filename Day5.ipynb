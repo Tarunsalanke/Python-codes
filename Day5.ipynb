{
 "cells": [
  {
   "cell_type": "markdown",
   "id": "0b382132-bca0-4f86-851e-eb94ae1b46ba",
   "metadata": {},
   "source": [
    "OOPS in Python"
   ]
  },
  {
   "cell_type": "code",
   "execution_count": 14,
   "id": "e928fb53-09f2-4c49-b9a6-da3ea56c11ce",
   "metadata": {},
   "outputs": [
    {
     "name": "stdout",
     "output_type": "stream",
     "text": [
      "Hp: \n",
      "Processor=i5\n",
      "Ram=8 gb\n",
      "Storage SSD=512 gb\n",
      "\n",
      "Asus: \n",
      "Processor=i7\n",
      "Ram=12 gb\n",
      "Storage SSD=1080 gb\n",
      "\n",
      "Lenovo: \n",
      "Processor=i3\n",
      "Ram=6 gb\n",
      "Storage SSD=512 gb\n"
     ]
    }
   ],
   "source": [
    "class laptop:\n",
    "    def __init__(self,processor,ram,storage):\n",
    "        self.processor=processor\n",
    "        self.ram=ram\n",
    "        self.storage=storage\n",
    "\n",
    "    def config(self):\n",
    "        print(f'Processor={self.processor}\\nRam={self.ram} gb\\nStorage SSD={self.storage} gb')\n",
    "\n",
    "hp=laptop('i5',8,512)\n",
    "Asus=laptop('i7',12,1080)\n",
    "Lenovo=laptop('i3',6,512)\n",
    "print(\"Hp: \")\n",
    "hp.config()\n",
    "print('\\nAsus: ')\n",
    "Asus.config()\n",
    "print('\\nLenovo: ')\n",
    "Lenovo.config()"
   ]
  },
  {
   "cell_type": "code",
   "execution_count": 3,
   "id": "f6515f3c-7019-4ded-be19-27ebc875c5b7",
   "metadata": {},
   "outputs": [
    {
     "name": "stdin",
     "output_type": "stream",
     "text": [
      "Enter st1 marks:  12 35 66 22 42\n",
      "Enter st2 marks:  21 34 44 64 43\n",
      "Enter st3 marks:  12 45 34 64 22\n"
     ]
    },
    {
     "name": "stdout",
     "output_type": "stream",
     "text": [
      "student1 = 35.4\n",
      "student2 = 41.2\n",
      "student3 = 35.4\n",
      "41.2\n"
     ]
    }
   ],
   "source": [
    "class student:\n",
    "    def __init__(self,marks):\n",
    "        self.mark=marks\n",
    "\n",
    "    def avg(self):\n",
    "        s=0\n",
    "        for i in self.mark:\n",
    "            s+=i\n",
    "        return (s/len(self.mark))\n",
    "\n",
    "if __name__=='__main__':\n",
    "    st1=student([int(item) for item in input('Enter st1 marks: ').split()])\n",
    "    st2=student([int(item) for item in input('Enter st2 marks: ').split()])\n",
    "    st3=student([int(item) for item in input('Enter st3 marks: ').split()])\n",
    "    \n",
    "    print('student1 =',st1.avg())\n",
    "    print('student2 =',st2.avg())\n",
    "    print('student3 =',st3.avg())\n",
    "    print('Max average=',max(st1.avg(),st2.avg(),st3.avg()))"
   ]
  },
  {
   "cell_type": "code",
   "execution_count": 19,
   "id": "594b8c19-81de-4c57-8e26-d6636e7f2dd6",
   "metadata": {},
   "outputs": [
    {
     "name": "stdout",
     "output_type": "stream",
     "text": [
      "Processor=i5\n",
      "Ram=8 GB\n",
      "Storage=512\n",
      "Battery=12 hrs\n",
      "Processor=i7\n",
      "Ram=8 GB\n",
      "Storage=256\n",
      "Graphic card=6 GB\n"
     ]
    }
   ],
   "source": [
    "class laptop:\n",
    "    def __init__(self,p,r,s):\n",
    "        self.processor=p\n",
    "        self.ram=r\n",
    "        self.storage=s\n",
    "\n",
    "    def printfeatures(self):\n",
    "        print(f'Processor={self.processor}\\nRam={self.ram} GB\\nStorage={self.storage}')\n",
    "\n",
    "class professionallaptop(laptop):\n",
    "    def __init__(self,p,r,s,b):\n",
    "        super().__init__(p,r,s)\n",
    "        self.battery=b\n",
    "\n",
    "    def printfeatures(self):\n",
    "        super().printfeatures()\n",
    "        print(f'Battery={self.battery} hrs')\n",
    "\n",
    "class gaminglaptop(laptop):\n",
    "    def __init__(self,p,r,s,g):\n",
    "        super().__init__(p,r,s)\n",
    "        self.graphiccard=g\n",
    "\n",
    "    def printfeatures(self):\n",
    "        super().printfeatures()\n",
    "        print(f'Graphic card={self.graphiccard} GB')\n",
    "\n",
    "dell=professionallaptop('i5',8,512,12)\n",
    "Asus=gaminglaptop('i7',8,256,6)\n",
    "\n",
    "dell.printfeatures()\n",
    "Asus.printfeatures()"
   ]
  },
  {
   "cell_type": "code",
   "execution_count": 33,
   "id": "44e4c939-96a8-4a2b-9966-c91b403f7f8c",
   "metadata": {},
   "outputs": [
    {
     "name": "stdout",
     "output_type": "stream",
     "text": [
      "{'A': 500, 'B': 600, 'C': 400}\n"
     ]
    },
    {
     "name": "stdin",
     "output_type": "stream",
     "text": [
      "Enter dest:  A\n",
      "Enter number of persons:  1\n"
     ]
    },
    {
     "name": "stdout",
     "output_type": "stream",
     "text": [
      "1.General\n",
      "2.Sleeper\n",
      "3.AC\n",
      "4.First Class\n"
     ]
    },
    {
     "name": "stdin",
     "output_type": "stream",
     "text": [
      "Enter Ticket type:  2\n"
     ]
    },
    {
     "name": "stdout",
     "output_type": "stream",
     "text": [
      "Price=Rs.1050\n"
     ]
    }
   ],
   "source": [
    "class ticket:\n",
    "    def __init__(self,t,p):\n",
    "        self.to=t\n",
    "        self.persons=p\n",
    "\n",
    "    def calc(self):\n",
    "        return (self.to*self.persons)\n",
    "\n",
    "class general(ticket):\n",
    "    def __init__(self,t,p):\n",
    "        super().__init__(t,p)\n",
    "\n",
    "    def calc(self):\n",
    "        return (50+2*super().calc())\n",
    "\n",
    "class sleeper(ticket):\n",
    "    def __init__(self,t,p):\n",
    "        super().__init__(t,p)\n",
    "\n",
    "    def calc(self):\n",
    "        return (50+2*super().calc())\n",
    "\n",
    "class ac(ticket):\n",
    "    def __init__(self,t,p):\n",
    "        super().__init__(t,p)\n",
    "\n",
    "    def calc(self):\n",
    "        return (50+4*super().calc())\n",
    "\n",
    "class first(ticket):\n",
    "    def __init__(self,t,p):\n",
    "        super().__init__(t,p)\n",
    "\n",
    "    def calc(self):\n",
    "        return (50+5*super().calc())\n",
    "\n",
    "\n",
    "if __name__=='__main__':\n",
    "    dit={'A':500,'B':600,'C':400}\n",
    "    print(dit)\n",
    "    dest=input(\"Enter dest: \")\n",
    "    try:\n",
    "        t=dit[dest.upper()]\n",
    "    except:\n",
    "        print('Destination Not Found')\n",
    "\n",
    "    p=int(input(\"Enter number of persons: \"))\n",
    "\n",
    "    print('1.General\\n2.Sleeper\\n3.AC\\n4.First Class')\n",
    "    x=int(input(\"Enter Ticket type: \"))\n",
    "    match x:\n",
    "        case 1:ob=general(t,p)\n",
    "        case 2:ob=sleeper(t,p)\n",
    "        case 3:ob=ac(t,p)\n",
    "        case 4:ob=first(t,p)\n",
    "\n",
    "        case _:print('Invalid Ticket type')\n",
    "            \n",
    "    print(f'Price=Rs.{ob.calc()}')\n",
    "    "
   ]
  }
 ],
 "metadata": {
  "kernelspec": {
   "display_name": "Python 3 (ipykernel)",
   "language": "python",
   "name": "python3"
  },
  "language_info": {
   "codemirror_mode": {
    "name": "ipython",
    "version": 3
   },
   "file_extension": ".py",
   "mimetype": "text/x-python",
   "name": "python",
   "nbconvert_exporter": "python",
   "pygments_lexer": "ipython3",
   "version": "3.12.3"
  }
 },
 "nbformat": 4,
 "nbformat_minor": 5
}
