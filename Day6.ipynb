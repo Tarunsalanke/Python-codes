{
 "cells": [
  {
   "cell_type": "code",
   "execution_count": 1,
   "id": "b1f109e4-f07c-43f7-8af2-11b10f3bc934",
   "metadata": {},
   "outputs": [
    {
     "name": "stdout",
     "output_type": "stream",
     "text": [
      "{1: 'car', 2: 'truck'}\n"
     ]
    },
    {
     "name": "stdin",
     "output_type": "stream",
     "text": [
      "Enter Choice:  2\n",
      "Enter Engine power: 400\n",
      "Enter Regester Number: Ka 34 EP 1653\n",
      "Enter Price: 500000\n",
      "Enter Color: Blue\n",
      "Enter Load Capacity: 600\n",
      "Enter number of Axles: 3\n"
     ]
    },
    {
     "name": "stdout",
     "output_type": "stream",
     "text": [
      "Truck Features: \n",
      "Engine:400 cc\n",
      "Regester Plate:Ka 34 EP 1653\n",
      "Price:Rs.500000\n",
      "Color:Blue\n",
      "Load Capacity:3\n",
      "Number of Axles: 600\n"
     ]
    }
   ],
   "source": [
    "class vehicle:\n",
    "    def __init__(self,e,rp,p,c):\n",
    "        self.engine=e\n",
    "        self.regplate=rp\n",
    "        self.price=p\n",
    "        self.color=c\n",
    "\n",
    "    def features(self):\n",
    "        print(f'Engine:{self.engine} cc\\nRegester Plate:{self.regplate}\\nPrice:Rs.{self.price}\\nColor:{self.color}')\n",
    "class car(vehicle):\n",
    "    def __init__(self,e,rp,p,c,t,nop,ms):\n",
    "        super().__init__(e,rp,p,c)\n",
    "        self.type=t\n",
    "        self.passengers=nop\n",
    "        self.maxsp=ms\n",
    "\n",
    "    def features(self):\n",
    "        print(\"Car Features: \")\n",
    "        super().features()\n",
    "        print(f'Car Type:{self.type}\\nNumber of Passengers:{self.passengers}\\nMax Speed:{self.maxsp}')\n",
    "\n",
    "class truck(vehicle):\n",
    "    def __init__(self,e,rp,p,c,noa,loadcap):\n",
    "        super().__init__(e,rp,p,c)\n",
    "        self.loadcap=loadcap\n",
    "        self.noaxle=noa\n",
    "\n",
    "    def features(self):\n",
    "        print(\"Truck Features: \")\n",
    "        super().features()\n",
    "        print(f'Load Capacity:{self.loadcap}\\nNumber of Axles: {self.noaxle}')\n",
    "\n",
    "if __name__==\"__main__\":\n",
    "    \n",
    "    \n",
    "    di={1:'car',2:'truck'}\n",
    "    print(di)\n",
    "    match int(input('Enter Choice: ')):\n",
    "        case 1:ob=car(int(input('Enter Engine power:')),input('Enter Regester Number:'),int(input('Enter Price:')),input('Enter Color:'),input('Enter Car Type:'),input('Enter Number of Passengers:'),int(input('Enter Max Speed:')))\n",
    "        case 2:ob=truck(int(input('Enter Engine power:')),input('Enter Regester Number:'),int(input('Enter Price:')),input('Enter Color:'),int(input('Enter Load Capacity:')),int(input('Enter number of Axles:')))\n",
    "    ob.features()"
   ]
  },
  {
   "cell_type": "code",
   "execution_count": 13,
   "id": "605ee9ce-4ff4-4e93-9cbb-56b04a94e5cd",
   "metadata": {},
   "outputs": [
    {
     "name": "stdout",
     "output_type": "stream",
     "text": [
      "Manager Details\n",
      "Employee Id: 123\n",
      "Employee Name: Sunkeerth\n",
      "Employee Salary:Rs.50000\n",
      "Employee client Name: Vaibhav\n",
      "Employee project: Python\n"
     ]
    }
   ],
   "source": [
    "class employee:\n",
    "    def __init__(self,eid,name,sal):\n",
    "        self.eid=eid\n",
    "        self.ename=name\n",
    "        self.esal=sal\n",
    "\n",
    "    def printdetail(self):\n",
    "        print(f'Employee Id: {self.eid}\\nEmployee Name: {self.ename}\\nEmployee Salary:Rs.{self.esal}')\n",
    "\n",
    "class staff(employee):\n",
    "    def __init__(self,eid,name,sal,wty,wadd):\n",
    "        super().__init__(eid,name,sal)\n",
    "        self.wtype=wty\n",
    "        self.waddr=wadd\n",
    "\n",
    "    def printdetail(self):\n",
    "        print(\"Staff Details\")\n",
    "        super().printdetail()\n",
    "        print(f'Employee work Type: {self.wtype}\\nEmployee Work Address: {self.waddr}')\n",
    "\n",
    "class developer(employee):\n",
    "    def __init__(self,eid,name,sal,mod,tech,exp):\n",
    "        super().__init__(eid,name,sal)\n",
    "        self.module=mod\n",
    "        self.tech=tech\n",
    "        self.exp=exp\n",
    "\n",
    "    def printdetail(self):\n",
    "        print(\"Developer Details\")\n",
    "        super().printdetail()\n",
    "        print(f'Employee Module: {self.module}\\nEmployee Tech: {self.tech}\\nEmployee Experience:{self.exp}')\n",
    "\n",
    "class manager(employee):\n",
    "    def __init__(self,eid,name,sal,pr,cl):\n",
    "        super().__init__(eid,name,sal)\n",
    "        self.pro=pr\n",
    "        self.cl=cl\n",
    "\n",
    "    def printdetail(self):\n",
    "        print(\"Manager Details\")\n",
    "        super().printdetail()\n",
    "        print(f'Employee client Name: {self.cl}\\nEmployee project: {self.pro}')\n",
    "\n",
    "\n",
    "ob=manager(123,'Sunkeerth',50000,'Python','Vaibhav')\n",
    "ob.printdetail()\n",
    "        "
   ]
  },
  {
   "cell_type": "code",
   "execution_count": 19,
   "id": "69ca9645-1934-4468-8b1a-e12f2d8f3c43",
   "metadata": {},
   "outputs": [
    {
     "name": "stdout",
     "output_type": "stream",
     "text": [
      "* * * * * * \n",
      "*         * \n",
      "*         * \n",
      "*         * \n",
      "*         * \n",
      "* * * * * * \n"
     ]
    }
   ],
   "source": [
    "for i in range(1,7):\n",
    "    for j in range(1,7):\n",
    "        if i==1 or j==1 or i==6 or j==6:\n",
    "            print('* ',end=\"\")\n",
    "        else:\n",
    "            print('  ',end='')\n",
    "    print()"
   ]
  },
  {
   "cell_type": "code",
   "execution_count": 38,
   "id": "7015384d-8a25-4645-ad57-0fd64aa73767",
   "metadata": {},
   "outputs": [
    {
     "name": "stdout",
     "output_type": "stream",
     "text": [
      "\n",
      "1 \n",
      "0 1 \n",
      "1 0 1 \n",
      "0 1 0 1 \n"
     ]
    }
   ],
   "source": [
    "for i in range(0,5):\n",
    "    for j in range(0,i):\n",
    "        if (i+j)%2==0 :\n",
    "            print('0 ',end='')\n",
    "        else:\n",
    "            print('1 ',end='')\n",
    "    print()"
   ]
  },
  {
   "cell_type": "code",
   "execution_count": 43,
   "id": "e10d3b64-7b28-43c7-9ccd-33002422ce39",
   "metadata": {},
   "outputs": [
    {
     "name": "stdout",
     "output_type": "stream",
     "text": [
      "\n",
      "1 \n",
      "1 2 \n",
      "1 2 3 \n",
      "1 2 3 4 \n",
      "1 2 3 4 5 \n",
      "1 2 3 4 5 6 \n",
      "1 2 3 4 5 6 7 \n",
      "1 2 3 4 5 6 7 8 \n",
      "1 2 3 4 5 6 7 8 9 \n"
     ]
    }
   ],
   "source": [
    "for i in range(1,11):\n",
    "    for j in range(1,i):\n",
    "        print(f'{j} ',end='')\n",
    "    print()"
   ]
  },
  {
   "cell_type": "code",
   "execution_count": 41,
   "id": "209617b8-fe13-49fa-8d0a-b13859a66f92",
   "metadata": {},
   "outputs": [
    {
     "name": "stdout",
     "output_type": "stream",
     "text": [
      "* * * * * * \n",
      "* * * * * \n",
      "* * * * \n",
      "* * * \n",
      "* * \n",
      "* \n"
     ]
    }
   ],
   "source": [
    "for i in range(6):\n",
    "    for j in range(i,6):\n",
    "        print('* ',end='')\n",
    "\n",
    "    print()"
   ]
  },
  {
   "cell_type": "code",
   "execution_count": 64,
   "id": "7a53f37e-c7ac-4ac4-8eaf-ff32d148c1c2",
   "metadata": {},
   "outputs": [
    {
     "name": "stdout",
     "output_type": "stream",
     "text": [
      "* * * * * * \n",
      "* * * * * \n",
      "* * * * \n",
      "* * * \n",
      "* * \n",
      "* \n",
      "* * \n",
      "* * * \n",
      "* * * * \n",
      "* * * * * \n",
      "* * * * * * \n"
     ]
    }
   ],
   "source": [
    "for i in range(6):\n",
    "    for j in range(i,6):\n",
    "        print('* ',end='')\n",
    "    print()\n",
    "for i in range(2,7):\n",
    "    for j in range(i):\n",
    "        print('* ',end='')\n",
    "    print()"
   ]
  },
  {
   "cell_type": "code",
   "execution_count": 71,
   "id": "b241af73-b3cb-4779-a6ff-ce5951aa4326",
   "metadata": {},
   "outputs": [
    {
     "name": "stdout",
     "output_type": "stream",
     "text": [
      "\n",
      "1 \n",
      "2 3 \n",
      "4 5 6 \n",
      "7 8 9 10 \n",
      "11 12 13 14 15 \n",
      "16 17 18 19 20 21 \n"
     ]
    }
   ],
   "source": [
    "num=1\n",
    "for i in range(7):\n",
    "    for j in range(i):\n",
    "        \n",
    "        print(num,end=' ')\n",
    "        num+=1\n",
    "    print()"
   ]
  },
  {
   "cell_type": "code",
   "execution_count": 75,
   "id": "16753fd3-2c19-435b-ad0f-cfb250c0d8bd",
   "metadata": {},
   "outputs": [
    {
     "name": "stdout",
     "output_type": "stream",
     "text": [
      "        1 \n",
      "      2 2 2 \n",
      "    3 3 3 3 3 \n",
      "  4 4 4 4 4 4 4 \n",
      "5 5 5 5 5 5 5 5 5 \n"
     ]
    }
   ],
   "source": [
    "rows = 5\n",
    "for i in range(1, rows + 1):\n",
    "    for j in range(rows - i):\n",
    "        print(\" \", end=\" \")\n",
    "    for j in range(2 * i - 1):\n",
    "        print(i, end=\" \")\n",
    "    print()"
   ]
  },
  {
   "cell_type": "code",
   "execution_count": null,
   "id": "eacd29ba-1747-42e1-ae30-ca56904b4998",
   "metadata": {},
   "outputs": [],
   "source": [
    "for i in range(6):\n",
    "    for j in range(i,6):\n",
    "        print('* ',end='')\n",
    "    print()\n",
    "for i in range(2,7):\n",
    "    for j in range(i):\n",
    "        print('* ',end='')\n",
    "    print()"
   ]
  },
  {
   "cell_type": "code",
   "execution_count": 4,
   "id": "d7a23c4b-40e6-40b3-aa0f-8c02cbc95718",
   "metadata": {},
   "outputs": [
    {
     "data": {
      "text/plain": [
       "[1, 2]"
      ]
     },
     "execution_count": 4,
     "metadata": {},
     "output_type": "execute_result"
    }
   ],
   "source": [
    "class Solution:\n",
    "    def removeDuplicates(self, nums):\n",
    "        List=list()\n",
    "        count=0\n",
    "        for i in nums:\n",
    "            if i not in List:\n",
    "                List.append(i)\n",
    "            else:\n",
    "                count+=1\n",
    "        return List\n",
    "ob=Solution()\n",
    "ob.removeDuplicates([1,1,2])"
   ]
  },
  {
   "cell_type": "code",
   "execution_count": 8,
   "id": "94565f54-b722-4647-a625-5305a97f558e",
   "metadata": {},
   "outputs": [
    {
     "name": "stdout",
     "output_type": "stream",
     "text": [
      "[1, 2, 3, 5]\n"
     ]
    }
   ],
   "source": [
    "l = [1,2,3,4,5]\n",
    "l.remove(4)\n",
    "print(l)"
   ]
  },
  {
   "cell_type": "code",
   "execution_count": null,
   "id": "7e09cced-b696-4463-8c37-d4c02d2394d3",
   "metadata": {},
   "outputs": [],
   "source": []
  }
 ],
 "metadata": {
  "kernelspec": {
   "display_name": "Python 3 (ipykernel)",
   "language": "python",
   "name": "python3"
  },
  "language_info": {
   "codemirror_mode": {
    "name": "ipython",
    "version": 3
   },
   "file_extension": ".py",
   "mimetype": "text/x-python",
   "name": "python",
   "nbconvert_exporter": "python",
   "pygments_lexer": "ipython3",
   "version": "3.12.3"
  }
 },
 "nbformat": 4,
 "nbformat_minor": 5
}
