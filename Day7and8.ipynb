{
 "cells": [
  {
   "cell_type": "code",
   "execution_count": 1,
   "id": "25922935-d830-4cf9-93a9-822a167bfb66",
   "metadata": {},
   "outputs": [
    {
     "name": "stdout",
     "output_type": "stream",
     "text": [
      "6 7 8\n",
      "19\n"
     ]
    }
   ],
   "source": [
    "L=[2,4,6,1,3,7,4,6,9,3,6,8,3,6,4,1,3,9,6,4,5,6,8,3,7,3,6,8]\n",
    "ma=0\n",
    "for i in range(len(L)-2):\n",
    "    if ma<(L[i]+L[i+1]+L[i+2]):\n",
    "        ma=L[i]+L[i+1]+L[i+2]\n",
    "        a,b,c=i,i+1,i+2\n",
    "print(a,b,c)\n",
    "print(ma)"
   ]
  },
  {
   "cell_type": "code",
   "execution_count": 2,
   "id": "f1c4de74-9b3b-4e29-bf1e-fd11cb2fbfa8",
   "metadata": {},
   "outputs": [
    {
     "name": "stdin",
     "output_type": "stream",
     "text": [
      "Enter the no. of consecutive number:  3\n"
     ]
    },
    {
     "name": "stdout",
     "output_type": "stream",
     "text": [
      "19\n"
     ]
    }
   ],
   "source": [
    "L=[2,4,6,1,3,7,4,6,9,3,6,8,3,6,4,1,3,9,6,4,5,6,8,3,7,3,6,8]\n",
    "user=int(input(\"Enter the no. of consecutive number: \"))\n",
    "ma=0\n",
    "\n",
    "for i in range(len(L)-user+1):\n",
    "    s=0\n",
    "    for j in range(0,user):\n",
    "        s=s+L[i+j]\n",
    "    if ma<s:\n",
    "       ma=s\n",
    "print(ma)"
   ]
  },
  {
   "cell_type": "code",
   "execution_count": 16,
   "id": "498ab48d-908f-476a-8d13-58f6f7f51b66",
   "metadata": {},
   "outputs": [
    {
     "name": "stdin",
     "output_type": "stream",
     "text": [
      "Enter String:  Hello :) Good Morning ;)\n"
     ]
    },
    {
     "name": "stdout",
     "output_type": "stream",
     "text": [
      "Hello 😊 Good Morning 😉 "
     ]
    }
   ],
   "source": [
    "di={':)':'😊',';)':'😉'}\n",
    "st=input('Enter String: ')\n",
    "for i in st.split():\n",
    "    if i in di:\n",
    "        print(di[i],end=' ')\n",
    "    else:\n",
    "        print(i,end=' ')"
   ]
  },
  {
   "cell_type": "markdown",
   "id": "f762162e-cbb4-4441-b52a-f3ed9db0414e",
   "metadata": {},
   "source": [
    "Day - 8\n",
    "SORTING"
   ]
  },
  {
   "cell_type": "code",
   "execution_count": 21,
   "id": "85c03669-c0f4-4dcd-a0a5-f7502c73c622",
   "metadata": {},
   "outputs": [
    {
     "name": "stdout",
     "output_type": "stream",
     "text": [
      "[1, 2, 3, 4, 5, 6, 7, 8, 9]\n"
     ]
    }
   ],
   "source": [
    "#Bubble Sort\n",
    "l=[3,5,2,6,7,4,8,1,9]\n",
    "for i in range(len(l)):\n",
    "    for j in range(i+1,len(l)):\n",
    "        if l[i]>l[j]:\n",
    "            l[i],l[j]=l[j],l[i]\n",
    "print(l)"
   ]
  },
  {
   "cell_type": "code",
   "execution_count": 22,
   "id": "8e5fc927-f5d7-446a-a1f4-5277503a5efa",
   "metadata": {},
   "outputs": [
    {
     "name": "stdout",
     "output_type": "stream",
     "text": [
      "[1, 2, 3, 4, 5, 6, 7, 8, 9]\n"
     ]
    }
   ],
   "source": [
    "#Insertion Sort\n",
    "arr=[3,5,2,6,7,4,8,1,9]\n",
    "for i in range(1, len(arr)):\n",
    "        key = arr[i]\n",
    "        j = i - 1\n",
    "        while j >= 0 and arr[j] > key:\n",
    "            arr[j + 1] = arr[j]\n",
    "            j -= 1\n",
    "        arr[j + 1] = key\n",
    "print(arr)"
   ]
  },
  {
   "cell_type": "code",
   "execution_count": 2,
   "id": "9001886b-7e70-4bc6-b10d-d82bb06233fb",
   "metadata": {},
   "outputs": [
    {
     "name": "stdout",
     "output_type": "stream",
     "text": [
      "[1, 2, 3, 4, 5, 6, 7, 8, 9]\n"
     ]
    }
   ],
   "source": [
    "#Selection Sort\n",
    "arr=[2,8,3,5,7,9,1,4,6]\n",
    "\n",
    "n = len(arr)\n",
    "for i in range(n):\n",
    "    min_index = i\n",
    "    for j in range(i + 1, n):\n",
    "        if arr[j] < arr[min_index]:\n",
    "            min_index = j\n",
    "    arr[i], arr[min_index] = arr[min_index], arr[i]\n",
    "print(arr)"
   ]
  },
  {
   "cell_type": "code",
   "execution_count": 10,
   "id": "1a148271-3ef7-4302-8df1-9e1e85c2799b",
   "metadata": {},
   "outputs": [
    {
     "name": "stdout",
     "output_type": "stream",
     "text": [
      "9\n"
     ]
    },
    {
     "name": "stdin",
     "output_type": "stream",
     "text": [
      "Enter key:  4\n"
     ]
    },
    {
     "name": "stdout",
     "output_type": "stream",
     "text": [
      "Search Successful\n",
      "Element found at 3 index\n"
     ]
    }
   ],
   "source": [
    "arr=[1, 2, 3, 4, 5, 6, 7, 8, 9]\n",
    "key=int(input('Enter key: '))\n",
    "low=0\n",
    "high=len(arr)-1\n",
    "mid=int((low+(high-low)/2))\n",
    "while low<=high:\n",
    "    if key==arr[mid]:\n",
    "        print('Search Successful')\n",
    "        print(f'Element found at {mid} index')\n",
    "        break\n",
    "    elif key<arr[mid]:\n",
    "        high=mid-1\n",
    "    elif key>arr[mid]:\n",
    "        low=mid+1\n",
    "    mid=int((low+(high-low)/2))\n",
    "else:\n",
    "    print('Search Unsuccessful')"
   ]
  },
  {
   "cell_type": "code",
   "execution_count": null,
   "id": "026cda9d-5555-4f73-96b7-898021bad99a",
   "metadata": {},
   "outputs": [],
   "source": [
    "st=input('Enter String: ')\n",
    "flag=False\n",
    "count1=0\n",
    "count2=0\n",
    "count3=0\n",
    "for i in range(len(st)):\n",
    "    if st[i]=='(':\n",
    "        count1+=1\n",
    "    elif st[i]=='{':\n",
    "        count2+=1\n",
    "    elif st[i]=='[':\n",
    "        count3+=1\n",
    "    elif st[i]==')':\n",
    "        count1-=1\n",
    "    elif st[i]==']':\n",
    "        count3-=1\n",
    "    elif st[i]=='}':\n",
    "        count2-=1\n",
    "\n",
    "if count1==0 and count2==0 and count3==0:\n",
    "    print('Valid 😊')\n",
    "else:\n",
    "    print('Invalid 😒')"
   ]
  },
  {
   "cell_type": "code",
   "execution_count": 36,
   "id": "689770e5-708a-4ab5-aa80-7c315ff7bd83",
   "metadata": {},
   "outputs": [
    {
     "name": "stdout",
     "output_type": "stream",
     "text": [
      "[2, 35, 23, 34, 53, 87, 21, 43, 75]\n",
      "[2, 35, 23, 34, 53, 87, 21, 43, 75, 37]\n",
      "37 popped\n",
      "[2, 35, 23, 34, 53, 87, 21, 43, 75]\n",
      "75 popped\n",
      "[2, 35, 23, 34, 53, 87, 21, 43]\n"
     ]
    }
   ],
   "source": [
    "#Stack\n",
    "def push(e):\n",
    "    S.append(e)\n",
    "    print(S)\n",
    "\n",
    "def pop():\n",
    "    e=S.pop()\n",
    "    print(f'{e} popped')\n",
    "    print(S)\n",
    "\n",
    "S=[2,35,23,34,53,87,21,43]\n",
    "push(75)\n",
    "push(37)\n",
    "pop()\n",
    "pop()"
   ]
  },
  {
   "cell_type": "code",
   "execution_count": 35,
   "id": "30064d56-d953-4819-963e-00f24d7185e0",
   "metadata": {},
   "outputs": [
    {
     "name": "stdout",
     "output_type": "stream",
     "text": [
      "[2, 35, 23, 34, 53, 87, 21, 43, 58]\n",
      "[2, 35, 23, 34, 53, 87, 21, 43, 58, 34]\n",
      "[35, 23, 34, 53, 87, 21, 43, 58, 34]\n",
      "[23, 34, 53, 87, 21, 43, 58, 34]\n"
     ]
    }
   ],
   "source": [
    "#Queue\n",
    "def insert(e):\n",
    "    Q.append(e)\n",
    "    print(Q)\n",
    "\n",
    "def delete():\n",
    "    Q.remove(Q[0])\n",
    "    print(Q)\n",
    "\n",
    "Q=[2,35,23,34,53,87,21,43]\n",
    "insert(58)\n",
    "insert(34)\n",
    "delete()\n",
    "delete()\n"
   ]
  },
  {
   "cell_type": "code",
   "execution_count": 2,
   "id": "aa1950da-0f37-4b49-981c-d33030466747",
   "metadata": {},
   "outputs": [
    {
     "name": "stdout",
     "output_type": "stream",
     "text": [
      "['🤣', '😂', '😁', '😃', '😆', '😎']\n",
      "['🤣', '😂', '😁', '😃', '😆', '😎', '😝']\n",
      "['😂', '😁', '😃', '😆', '😎', '😝']\n",
      "['😁', '😃', '😆', '😎', '😝']\n"
     ]
    }
   ],
   "source": [
    "#Queue\n",
    "def insert(e):\n",
    "    Q.append(e)\n",
    "    print(Q)\n",
    "\n",
    "def delete():\n",
    "    Q.remove(Q[0])\n",
    "    print(Q)\n",
    "\n",
    "Q=['🤣','😂','😁','😃','😆']\n",
    "insert('😎')\n",
    "insert('😝')\n",
    "delete()\n",
    "delete()\n"
   ]
  },
  {
   "cell_type": "code",
   "execution_count": null,
   "id": "8bdc6f8e-8b85-4621-9cf2-d2af406868d3",
   "metadata": {},
   "outputs": [],
   "source": []
  }
 ],
 "metadata": {
  "kernelspec": {
   "display_name": "Python 3 (ipykernel)",
   "language": "python",
   "name": "python3"
  },
  "language_info": {
   "codemirror_mode": {
    "name": "ipython",
    "version": 3
   },
   "file_extension": ".py",
   "mimetype": "text/x-python",
   "name": "python",
   "nbconvert_exporter": "python",
   "pygments_lexer": "ipython3",
   "version": "3.12.3"
  }
 },
 "nbformat": 4,
 "nbformat_minor": 5
}
