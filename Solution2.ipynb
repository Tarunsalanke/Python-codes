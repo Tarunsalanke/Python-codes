{
 "cells": [
  {
   "cell_type": "code",
   "execution_count": 1,
   "id": "6b34d11c-aa29-4154-8bd0-ce3c924afd61",
   "metadata": {},
   "outputs": [
    {
     "name": "stdin",
     "output_type": "stream",
     "text": [
      " 1\n",
      " 2\n",
      " 3\n",
      " 4\n"
     ]
    },
    {
     "name": "stdout",
     "output_type": "stream",
     "text": [
      "[[0, 0, 0], [0, 0, 1], [0, 0, 2], [0, 0, 3], [0, 1, 0], [0, 1, 1], [0, 1, 2], [0, 2, 0], [0, 2, 1], [0, 2, 3], [1, 0, 0], [1, 0, 1], [1, 0, 2], [1, 1, 0], [1, 1, 1], [1, 1, 3], [1, 2, 0], [1, 2, 2], [1, 2, 3]]\n"
     ]
    }
   ],
   "source": [
    "if __name__ == '__main__':\n",
    "    x = int(input())\n",
    "    y = int(input())\n",
    "    z = int(input())\n",
    "    n = int(input())\n",
    "    li=list()\n",
    "    for i in range(x+1):\n",
    "        for j in range(y+1):\n",
    "            for k in range(z+1):\n",
    "                if i+j+k==n:\n",
    "                    next\n",
    "                else:\n",
    "                    li.append([i,j,k])\n",
    "                    \n",
    "    print(li)"
   ]
  },
  {
   "cell_type": "code",
   "execution_count": null,
   "id": "9916185b-ee24-4f71-bcd5-88480185460f",
   "metadata": {},
   "outputs": [],
   "source": [
    "if __name__ == '__main__':\n",
    "    n = int(input())\n",
    "    arr = list(map(int, input().split()))\n",
    "    unique = list(set(arr))\n",
    "    sorted_ = sorted(unique, reverse=True)\n",
    "\n",
    "    print(sorted_[1])\n"
   ]
  },
  {
   "cell_type": "code",
   "execution_count": null,
   "id": "4a3e4a55-aa87-48bd-89b6-5bb6f18d76cd",
   "metadata": {},
   "outputs": [],
   "source": [
    "if __name__ == '__main__':\n",
    "    second_lowest_grade = float('inf')\n",
    "    lowest_grade = float('inf')\n",
    "    students=[]\n",
    "    for _ in range(int(input())):\n",
    "        name = input()\n",
    "        score = float(input())\n",
    "        if score < lowest_grade:\n",
    "            second_lowest_grade = lowest_grade\n",
    "            lowest_grade = score\n",
    "        elif score < second_lowest_grade and score != lowest_grade:\n",
    "            second_lowest_grade = score\n",
    "        students.append([name, score])\n",
    "    \n",
    "    second_lowest_students = [student[0] for student in students if student[1] == second_lowest_grade]\n",
    "    second_lowest_students.sort()\n",
    "    \n",
    "    for student in second_lowest_students:\n",
    "        print(student)\n"
   ]
  },
  {
   "cell_type": "code",
   "execution_count": null,
   "id": "a655f6b8-b056-445a-b599-06857ee085e7",
   "metadata": {},
   "outputs": [],
   "source": [
    "if __name__ == '__main__':\n",
    "    n = int(input())\n",
    "    student_marks = {}\n",
    "    for _ in range(n):\n",
    "        name, *line = input().split()\n",
    "        scores = list(map(float, line))\n",
    "        student_marks[name] = scores\n",
    "    query_name = input()\n",
    "    if query_name in student_marks:\n",
    "        marks = student_marks[query_name]\n",
    "        average_mark = sum(marks) / len(marks)\n",
    "        print(\"{:.2f}\".format(average_mark))\n",
    "    else:\n",
    "        print(\"Student not found.\") \n"
   ]
  },
  {
   "cell_type": "code",
   "execution_count": null,
   "id": "5d9d4ce6-fad6-4471-bb00-23e0bd4d611b",
   "metadata": {},
   "outputs": [],
   "source": [
    "def split_and_join(line):\n",
    "    li=[]\n",
    "    res=''\n",
    "    for i in line.split():\n",
    "        li.append(i)\n",
    "    for i in range(len(li)-1):\n",
    "        res=res+li[i]+'-'\n",
    "    res=res+li[-1]\n",
    "    return res\n",
    "\n",
    "if __name__ == '__main__':\n",
    "    line = input()\n",
    "    result = split_and_join(line)\n",
    "    print(result)"
   ]
  }
 ],
 "metadata": {
  "kernelspec": {
   "display_name": "Python 3 (ipykernel)",
   "language": "python",
   "name": "python3"
  },
  "language_info": {
   "codemirror_mode": {
    "name": "ipython",
    "version": 3
   },
   "file_extension": ".py",
   "mimetype": "text/x-python",
   "name": "python",
   "nbconvert_exporter": "python",
   "pygments_lexer": "ipython3",
   "version": "3.12.3"
  }
 },
 "nbformat": 4,
 "nbformat_minor": 5
}
