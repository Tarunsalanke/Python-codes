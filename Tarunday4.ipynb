{
 "cells": [
  {
   "cell_type": "code",
   "execution_count": 1,
   "id": "9d0adcbf-b2cb-4210-af80-8060ce4675d0",
   "metadata": {},
   "outputs": [
    {
     "name": "stdin",
     "output_type": "stream",
     "text": [
      "Enter Temperature in Celsius:  38.8\n"
     ]
    },
    {
     "name": "stdout",
     "output_type": "stream",
     "text": [
      "Temperature in Fahrenheit: 101.84\n"
     ]
    }
   ],
   "source": [
    "#converting celsius to fahrenheit \n",
    "cel=float(input(\"Enter Temperature in Celsius: \"))\n",
    "far=cel*(9/5)+32\n",
    "print(f'Temperature in Fahrenheit: {far}')"
   ]
  },
  {
   "cell_type": "code",
   "execution_count": 2,
   "id": "4440bd28-1cda-4280-ae15-585e3fc64449",
   "metadata": {},
   "outputs": [
    {
     "name": "stdin",
     "output_type": "stream",
     "text": [
      "Enter integers:  23 25 67 55 43 62\n"
     ]
    },
    {
     "name": "stdout",
     "output_type": "stream",
     "text": [
      "second max:  62\n"
     ]
    }
   ],
   "source": [
    "#printing second max number\n",
    "li=[int(item) for item in input(\"Enter integers: \").split()]\n",
    "maxn=0\n",
    "secmax=0\n",
    "if li[0]>li[1]:\n",
    "    maxn=li[0]\n",
    "    secmax=li[1]\n",
    "else:\n",
    "    maxn=li[1]\n",
    "    secmax=li[0]\n",
    "\n",
    "for i in range(2,len(li)):\n",
    "    if li[i] > maxn:\n",
    "        secmax=maxn\n",
    "        maxn=li[i]\n",
    "    elif li[i] > secmax and li[i]!=maxn:\n",
    "        secmax=li[i]\n",
    "print('second max: ',secmax)"
   ]
  },
  {
   "cell_type": "code",
   "execution_count": 15,
   "id": "b5d46260-2ca6-4a3d-9d5c-03d0d79f1d65",
   "metadata": {},
   "outputs": [
    {
     "name": "stdout",
     "output_type": "stream",
     "text": [
      "[[1, 1], [2, 3], [3, 3], [4, 1], [5, 1], [7, 1]]\n"
     ]
    }
   ],
   "source": [
    "#how many times a number is repeated in a list\n",
    "li=[1,2,3,2,3,4,3,5,2,7]\n",
    "occur=[]\n",
    "for i in li:\n",
    "    count=0\n",
    "    for j in li:\n",
    "        if j == i:\n",
    "            count+=1\n",
    "    else:\n",
    "        if [i,count] not in occur:\n",
    "            occur.append([i,count])\n",
    "\n",
    "print(occur)"
   ]
  },
  {
   "cell_type": "code",
   "execution_count": 3,
   "id": "3d585816-557b-4778-bf2d-79de4ddb5c6d",
   "metadata": {},
   "outputs": [
    {
     "name": "stdin",
     "output_type": "stream",
     "text": [
      "Enter the string:  Zero\n"
     ]
    },
    {
     "name": "stdout",
     "output_type": "stream",
     "text": [
      "Number of vowels in string = 2\n"
     ]
    }
   ],
   "source": [
    "#Counting Number of Vowels in a String\n",
    "string=input('Enter the string: ')\n",
    "string=string.lower()\n",
    "count=0\n",
    "for i in range(0,len(string)):\n",
    "    if string[i]=='a' or string[i]=='e' or string[i]=='i' or string[i]=='o' or string[i]=='u':\n",
    "        count+=1\n",
    "\n",
    "print(f'Number of vowels in string = {count}')"
   ]
  },
  {
   "cell_type": "code",
   "execution_count": 5,
   "id": "4388c253-3977-4122-9b5d-28d6b486c6bb",
   "metadata": {},
   "outputs": [
    {
     "name": "stdin",
     "output_type": "stream",
     "text": [
      "Enter elements of list:  1 2 3 4 5 6 7 8 9 10\n"
     ]
    },
    {
     "name": "stdout",
     "output_type": "stream",
     "text": [
      "Sum of all even numbers = 30\n"
     ]
    }
   ],
   "source": [
    "#Sum of all even numbers in a list \n",
    "li=[int(ite) for ite in input(\"Enter elements of list: \").split()]\n",
    "su=0\n",
    "for i in li:\n",
    "    if i%2==0:\n",
    "        su+=i\n",
    "\n",
    "print('Sum of all even numbers =',su)"
   ]
  },
  {
   "cell_type": "code",
   "execution_count": 6,
   "id": "5200680a-17e2-4a50-9a8b-90ab64de1cec",
   "metadata": {},
   "outputs": [
    {
     "name": "stdin",
     "output_type": "stream",
     "text": [
      "Enter String:  Hello World\n"
     ]
    },
    {
     "name": "stdout",
     "output_type": "stream",
     "text": [
      "String with Reversed words : WorldHello\n"
     ]
    }
   ],
   "source": [
    "#Reversing words\n",
    "Str=input('Enter String: ')\n",
    "l=Str.split()\n",
    "rev=''\n",
    "for i in range(-1,-1*(len(l)+1),-1):\n",
    "    rev+=l[i]\n",
    "\n",
    "print('String with Reversed words :',rev)"
   ]
  },
  {
   "cell_type": "code",
   "execution_count": 7,
   "id": "0f61d248-1a37-4b18-bea1-ed03fcef0134",
   "metadata": {},
   "outputs": [
    {
     "name": "stdout",
     "output_type": "stream",
     "text": [
      "Apple\n",
      "Banana\n",
      "Mango\n",
      "Grapes\n",
      "\n"
     ]
    },
    {
     "name": "stdin",
     "output_type": "stream",
     "text": [
      "Enter the fruit to be removed:  Banana\n",
      "Enter the fruit to be inserted:  Watermelon\n"
     ]
    },
    {
     "name": "stdout",
     "output_type": "stream",
     "text": [
      "\n",
      "Apple\n",
      "Watermelon\n",
      "Mango\n",
      "Grapes\n",
      "\n"
     ]
    }
   ],
   "source": [
    "import os\n",
    "fruits=['Apple','Banana','Mango','Grapes']\n",
    "with open(\"fruits.txt\",'w') as f:\n",
    "    for item in fruits:\n",
    "        f.write(item + \"\\n\")\n",
    "    f.close()\n",
    "with open('fruits.txt','r') as f:\n",
    "    print(f.read())\n",
    "    f.close()\n",
    "rm=input('Enter the fruit to be removed: ')\n",
    "ins=input('Enter the fruit to be inserted: ')\n",
    "contents=''\n",
    "with open(\"fruits.txt\",'r') as f:\n",
    "    contents=f.read()\n",
    "    newcontents=contents.replace(rm,ins) \n",
    "f.close()\n",
    "with open(\"fruits.txt\",'w') as f:\n",
    "    for item in newcontents.split():\n",
    "        f.write(item+'\\n')\n",
    "f.close()\n",
    "print()\n",
    "with open('fruits.txt','r') as f:\n",
    "    print(f.read())"
   ]
  },
  {
   "cell_type": "code",
   "execution_count": null,
   "id": "a14ac945-a6ab-425b-b3a5-1edf922b9f3e",
   "metadata": {},
   "outputs": [],
   "source": []
  }
 ],
 "metadata": {
  "kernelspec": {
   "display_name": "Python 3 (ipykernel)",
   "language": "python",
   "name": "python3"
  },
  "language_info": {
   "codemirror_mode": {
    "name": "ipython",
    "version": 3
   },
   "file_extension": ".py",
   "mimetype": "text/x-python",
   "name": "python",
   "nbconvert_exporter": "python",
   "pygments_lexer": "ipython3",
   "version": "3.12.3"
  }
 },
 "nbformat": 4,
 "nbformat_minor": 5
}
