{
 "cells": [
  {
   "cell_type": "code",
   "execution_count": 7,
   "id": "6025a756-673f-49fe-93e8-c1888ca6b97c",
   "metadata": {},
   "outputs": [
    {
     "name": "stdin",
     "output_type": "stream",
     "text": [
      "Enter String:  Hello World\n"
     ]
    },
    {
     "name": "stdout",
     "output_type": "stream",
     "text": [
      "dlroW olleH"
     ]
    }
   ],
   "source": [
    "l=input('Enter String: ')\n",
    "s=[]\n",
    "for i in l:\n",
    "    s.append(i)\n",
    "while len(s)>0:\n",
    "    print(s.pop(),end='')"
   ]
  },
  {
   "cell_type": "code",
   "execution_count": 9,
   "id": "b9c35f7f-72c4-42df-be04-e4b6d0beb5e8",
   "metadata": {},
   "outputs": [
    {
     "name": "stdin",
     "output_type": "stream",
     "text": [
      "Enter string:  This is a car\n"
     ]
    },
    {
     "name": "stdout",
     "output_type": "stream",
     "text": [
      "car a is This "
     ]
    }
   ],
   "source": [
    "l=input('Enter string: ')\n",
    "s=[]\n",
    "for i in l.split():\n",
    "    s.append(i)\n",
    "\n",
    "while len(s)>0:\n",
    "    print(s.pop(),end=' ')"
   ]
  },
  {
   "cell_type": "code",
   "execution_count": 47,
   "id": "2503d1c9-96bd-411d-8345-3738cc2034a2",
   "metadata": {},
   "outputs": [
    {
     "name": "stdin",
     "output_type": "stream",
     "text": [
      "Enter Infix:  (a+b)*(c-d)\n"
     ]
    },
    {
     "name": "stdout",
     "output_type": "stream",
     "text": [
      "ab+cd-*\n"
     ]
    }
   ],
   "source": [
    "def precedence(x):\n",
    "    if x=='+' or x=='-':\n",
    "        return 1\n",
    "    elif x=='*' or x=='/' or x=='%':\n",
    "        return 2\n",
    "    elif x=='^':\n",
    "        return 3\n",
    "    elif x=='(' or x=='#':\n",
    "        return 0\n",
    "    else:\n",
    "        return -1\n",
    "\n",
    "def assoc(x):\n",
    "    if x=='^':\n",
    "        return 'R'\n",
    "    else:\n",
    "        return 'L'\n",
    "\n",
    "\n",
    "infix=input('Enter Infix: ')\n",
    "st=[]\n",
    "st.append('#')\n",
    "post=''\n",
    "for i in infix:\n",
    "    if i=='(':\n",
    "        st.append(i)\n",
    "    elif i=='+' or i=='-' or i=='*' or i=='/' or i=='^':\n",
    "        st.append(i)\n",
    "    elif i==')':\n",
    "        while st[-1]!='(':\n",
    "            post=post+st.pop()\n",
    "        st.pop()\n",
    "    elif i.isalnum():\n",
    "        post+=i\n",
    "    else:\n",
    "        while st and (precedence(st[-1])>precedence(i)) or ((precedence(i)==precedence(s[-1])) and assoc(i)=='L'):\n",
    "            post+=st.pop()\n",
    "        st.append(i)\n",
    "while st[-1]!='#':\n",
    "    post+=st.pop()\n",
    "print(post)"
   ]
  },
  {
   "cell_type": "code",
   "execution_count": 59,
   "id": "0c6acd92-a4fc-431a-8cf1-43593cc2751f",
   "metadata": {},
   "outputs": [
    {
     "name": "stdin",
     "output_type": "stream",
     "text": [
      "Enter intake foods:  apple dal chapati rice rice apple apple chapati rice dal chapati chapati\n"
     ]
    },
    {
     "name": "stdout",
     "output_type": "stream",
     "text": [
      "Energy=4\n",
      "['apple', 'dal', 'rice', 'dal']\n"
     ]
    }
   ],
   "source": [
    "e=0\n",
    "intake=[f for f in input('Enter intake foods: ').split()]\n",
    "st=[]\n",
    "for i in intake:\n",
    "    if not st:\n",
    "        st.append(i)\n",
    "    elif i==st[-1]:\n",
    "        st.pop()\n",
    "    else:\n",
    "        st.append(i)\n",
    "\n",
    "\n",
    "print(f'Energy={len(st)}')\n",
    "print(st)\n",
    "\n",
    "    \n",
    "\n"
   ]
  },
  {
   "cell_type": "code",
   "execution_count": 55,
   "id": "7aa7ac3f-2636-4271-a955-a77e93458252",
   "metadata": {},
   "outputs": [
    {
     "name": "stdin",
     "output_type": "stream",
     "text": [
      "Enter:  {(}\n"
     ]
    },
    {
     "name": "stdout",
     "output_type": "stream",
     "text": [
      "Not Valid\n"
     ]
    }
   ],
   "source": [
    "s=input('Enter: ')\n",
    "st=[]\n",
    "for i in s:\n",
    "    if i=='(' or i=='[' or i=='{':\n",
    "        st.append(i)\n",
    "    elif (i==')' and st[-1]=='(') or (i==']' and st[-1]=='[') or (i=='}' and st[-1]=='{'):\n",
    "        st.pop()\n",
    "    else:\n",
    "        continue\n",
    "\n",
    "if not st:\n",
    "    print('Valid')\n",
    "else:\n",
    "    print('Not Valid')"
   ]
  },
  {
   "cell_type": "code",
   "execution_count": 57,
   "id": "4d814560-e859-4b1f-bf6e-0ac716cd3e2e",
   "metadata": {},
   "outputs": [
    {
     "name": "stdout",
     "output_type": "stream",
     "text": [
      "Factorial = 120\n"
     ]
    }
   ],
   "source": [
    "def fun(x):\n",
    "    if x==1 or x==0:\n",
    "        return 1\n",
    "    return x*fun(x-1)\n",
    "\n",
    "print('Factorial =',fun(5))"
   ]
  },
  {
   "cell_type": "code",
   "execution_count": null,
   "id": "f4cdccef-7358-493b-9ec9-242552347f3b",
   "metadata": {},
   "outputs": [],
   "source": []
  }
 ],
 "metadata": {
  "kernelspec": {
   "display_name": "Python 3 (ipykernel)",
   "language": "python",
   "name": "python3"
  },
  "language_info": {
   "codemirror_mode": {
    "name": "ipython",
    "version": 3
   },
   "file_extension": ".py",
   "mimetype": "text/x-python",
   "name": "python",
   "nbconvert_exporter": "python",
   "pygments_lexer": "ipython3",
   "version": "3.12.3"
  }
 },
 "nbformat": 4,
 "nbformat_minor": 5
}
